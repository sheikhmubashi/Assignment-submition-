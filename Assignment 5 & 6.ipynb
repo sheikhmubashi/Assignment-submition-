{
 "cells": [
  {
   "cell_type": "code",
   "execution_count": 1,
   "metadata": {},
   "outputs": [
    {
     "name": "stdout",
     "output_type": "stream",
     "text": [
      "Enter Value to find Factorial:6\n",
      "Factorial of a 6 = 720\n"
     ]
    }
   ],
   "source": [
    "num= input(\"Enter Value to find Factorial:\");\n",
    "num=int(num);\n",
    "def Factorial(num):\n",
    "    f=1;\n",
    "    if num<1:\n",
    "        print(\"please enter value that is greater then one\");\n",
    "    elif num>=1:\n",
    "        for i in range(1,num+1):\n",
    "            f=f*i;\n",
    "        print(\"Factorial of a\", num , \"=\", f);\n",
    "    else:\n",
    "        print(\"Invalid Value Enter\");\n",
    "Factorial(num);"
   ]
  },
  {
   "cell_type": "code",
   "execution_count": 6,
   "metadata": {},
   "outputs": [
    {
     "name": "stdout",
     "output_type": "stream",
     "text": [
      "Original String :  Karachi\n",
      "No. of Upper case characters :  1\n",
      "No. of Lower case Characters :  6\n"
     ]
    }
   ],
   "source": [
    "def string_test(s):\n",
    "    d={\"UPPER_CASE\":0, \"LOWER_CASE\":0}\n",
    "    for c in s:\n",
    "        if c.isupper():\n",
    "           d[\"UPPER_CASE\"]+=1\n",
    "        elif c.islower():\n",
    "           d[\"LOWER_CASE\"]+=1\n",
    "        else:\n",
    "           pass\n",
    "    print (\"Original String : \", s)\n",
    "    print (\"No. of Upper case characters : \", d[\"UPPER_CASE\"])\n",
    "    print (\"No. of Lower case Characters : \", d[\"LOWER_CASE\"])\n",
    "\n",
    "string_test('Karachi')\n"
   ]
  },
  {
   "cell_type": "code",
   "execution_count": 1,
   "metadata": {},
   "outputs": [
    {
     "name": "stdout",
     "output_type": "stream",
     "text": [
      "Enter number of element you want to enter5\n",
      "67\n",
      "4\n",
      "89\n",
      "2\n",
      "1\n",
      "4, 2, "
     ]
    }
   ],
   "source": [
    "List = [];\n",
    "n = int(input(\"Enter number of element you want to enter\"));\n",
    "for i in range(0, n):\n",
    "    num= int(input());\n",
    "    List.append(num)\n",
    "#print(List);\n",
    "def EvenNum(List):\n",
    "    for num in List:\n",
    "        if num % 2==0:  \n",
    "            print(num, end =\", \");\n",
    "EvenNum(List);"
   ]
  },
  {
   "cell_type": "code",
   "execution_count": 8,
   "metadata": {},
   "outputs": [
    {
     "name": "stdout",
     "output_type": "stream",
     "text": [
      "Enter any word: MADAM\n",
      "MADAM is a Palindrom\n"
     ]
    }
   ],
   "source": [
    "def isPalindrom(palWord):\n",
    "    firstHalf = []\n",
    "    secondHalf = []\n",
    "    if len(palWord) % 2 == 1:\n",
    "        oddList = (len(palWord) // 2)\n",
    "        for element in range(oddList):\n",
    "            firstHalf.append(palWord[element])\n",
    "        for element in range(-1, -(len(palWord)-oddList), -1):\n",
    "            secondHalf.append(palWord[element])\n",
    "    else:\n",
    "        print(\"Not palindrom Word\")\n",
    "    palindrom = False\n",
    "    for element in range(len(firstHalf)):\n",
    "        if firstHalf[element] == secondHalf[element]:\n",
    "            palindrom = True\n",
    "    if palindrom == True:\n",
    "        print(\"{} is a Palindrom\".format(palWord))\n",
    "    else:\n",
    "        print(\"Not a palindrom\")\n",
    "palWord = input('Enter any word: ')\n",
    "isPalindrom(palWord)\n"
   ]
  },
  {
   "cell_type": "code",
   "execution_count": 9,
   "metadata": {},
   "outputs": [
    {
     "name": "stdout",
     "output_type": "stream",
     "text": [
      "Enter num to check it is prime or not: 6\n",
      "6  is not a prime\n"
     ]
    }
   ],
   "source": [
    "num = int(input(\"Enter num to check it is prime or not: \"));\n",
    "def checkPrime(num):\n",
    "    if num>1:\n",
    "        for i in range(2,num//2):\n",
    "            if(num % i)==0:\n",
    "                print(num, \" is not a prime\");\n",
    "                break;\n",
    "            else:\n",
    "                print(num, \"is a prime number \");\n",
    "    else:\n",
    "        print(num, \"is not a prime number\");\n",
    "\n",
    "checkPrime(num);"
   ]
  },
  {
   "cell_type": "code",
   "execution_count": 12,
   "metadata": {},
   "outputs": [
    {
     "name": "stdout",
     "output_type": "stream",
     "text": [
      "Enter Shopping item [-1 to abort]: Apple\n",
      "Enter Shopping item [-1 to abort]: Banana\n",
      "Enter Shopping item [-1 to abort]: Mango\n",
      "Enter Shopping item [-1 to abort]: Coofee\n",
      "Enter Shopping item [-1 to abort]: -1\n",
      "You purchased: Apple\n",
      "You purchased: Banana\n",
      "You purchased: Mango\n",
      "You purchased: Coofee\n"
     ]
    }
   ],
   "source": [
    "def shoppingList(*items):\n",
    "    shoppingItems = []\n",
    "    while True:\n",
    "        item = input(\"Enter Shopping item [-1 to abort]: \")\n",
    "        if item != '-1':\n",
    "            shoppingItems.append(item)\n",
    "        else:\n",
    "            break\n",
    "    for item in range(len(shoppingItems)):\n",
    "        print(\"You purchased: {}\".format(shoppingItems[item]))\n",
    "shoppingList()\n"
   ]
  },
  {
   "cell_type": "code",
   "execution_count": null,
   "metadata": {},
   "outputs": [],
   "source": [
    "Object Oriented Programming Language\n",
    "\n",
    "1: Object-oriented programming (OOP) refers to a type of computer programming (software design) \n",
    "   in which programmers define the data type of a data structure, and also the types of operations (functions) \n",
    "   that can be applied to the data structure."
   ]
  },
  {
   "cell_type": "code",
   "execution_count": null,
   "metadata": {},
   "outputs": [],
   "source": [
    "Advantages of OOP:\n",
    "\n",
    "1: It provides a clear modular structure for programs which makes it good for defining abstract datatypes \n",
    "   in which implementation details are hidden\n",
    "\n",
    "2: Objects can also be reused within an across applications. The reuse of software also lowers the cost of development. \n",
    "    More effort is put into the object-oriented analysis and design, which lowers the overall cost of development.\n",
    "    \n",
    "3: It makes software easier to maintain. Since the design is modular, part of the system can be updated in case of issues \n",
    "    without a need to make large-scale changes\n",
    "    \n",
    "4: Reuse also enables faster development. Object-oriented programming languages come with rich libraries of objects, \n",
    "    and code developed during projects is also reusable in future projects.\n",
    "    \n",
    "5: It provides a good framework for code libraries where the supplied software components can be easily adapted and \n",
    "    modified by the programmer. This is particularly useful for developing graphical user interfaces.\n",
    "    \n",
    "6: Better Productivity as OOP techniques enforce rules on a programmer that, in the long run, \n",
    "    help her get more work done; finished programs work better, have more features and are easier to read and maintain. \n",
    "    OOP programmers take new and existing software objects and \"stitch\" them together to make new programs. \n",
    "    Because object libraries contain many useful functions, software developers don't have to reinvent the \n",
    "    wheel as often; more of their time goes into making the new program."
   ]
  },
  {
   "cell_type": "code",
   "execution_count": null,
   "metadata": {},
   "outputs": [],
   "source": [
    "Differentiate between function and method\n",
    "\n",
    "1: Functions are defined outside of classes, while Methods are defined inside of and part of classes."
   ]
  },
  {
   "cell_type": "code",
   "execution_count": null,
   "metadata": {},
   "outputs": [],
   "source": [
    "Define the following terms:\n",
    "    \n",
    "1: (Class/Object) \n",
    "    Python is an object oriented programming language.\n",
    "    Almost everything in Python is an object, with its properties and methods.\n",
    "    A Class is like an object constructor, or a \"blueprint\" for creating objects.\n",
    "    \n",
    "2: (Attribute)\n",
    "    Everything in Python is an object, and almost everything has attributes and methods. \n",
    "    In python, functions too are objects. So they have attributes like other objects. \n",
    "    All functions have a built-in attribute __doc__, which returns the doc string defined in the function source code\n",
    "    \n",
    "3: (Behavior)\n",
    "    Behaviour provides a language suitable for Behaviour Driven Development (BDD), as opposed to post-coding unit testing. \n",
    "    It operates as a facade over Python’s unit testing framework.\n",
    "    \n",
    "\n",
    "\n",
    "    "
   ]
  },
  {
   "cell_type": "code",
   "execution_count": null,
   "metadata": {},
   "outputs": [],
   "source": [
    "class Car() :\n",
    "    def __init__(self,name,color,model,avg,registration_num):\n",
    "        self.name = name\n",
    "        self.color = color\n",
    "        self.model = model\n",
    "        self.avg = avg\n",
    "        self.registration_num = registration_num\n",
    "     \n",
    "    def carDetail(self) :\n",
    "        print(\"Car name is '{}' color is '{}' model is '{}' gives avg is '{}' registration number is '{}'\".format(self.name,self.color,self.model,self.avg,self.registration_num))\n",
    "        \n",
    "    def owner(self,owner) :\n",
    "        print(\"The owner of {} is {}\".format(self.name,owner))\n",
    "        \n",
    "    def change_owner(self,newOwner) :\n",
    "        self.newOwner = newOwner\n",
    "        print(\"The new owner of a car is {}\".format(self.newOwner))\n",
    "        \n",
    "obj1 = Car(\"Carola\",\"White\",2012,\"100 kilometer per liter\",1200)\n",
    "\n",
    "obj1.carDetail()\n",
    "\n",
    "obj1.owner(\"Muhammad Mubashir\")\n",
    "\n",
    "obj1.change_owner(\"Ejaz\")"
   ]
  }
 ],
 "metadata": {
  "kernelspec": {
   "display_name": "Python 3",
   "language": "python",
   "name": "python3"
  },
  "language_info": {
   "codemirror_mode": {
    "name": "ipython",
    "version": 3
   },
   "file_extension": ".py",
   "mimetype": "text/x-python",
   "name": "python",
   "nbconvert_exporter": "python",
   "pygments_lexer": "ipython3",
   "version": "3.7.4"
  }
 },
 "nbformat": 4,
 "nbformat_minor": 2
}
